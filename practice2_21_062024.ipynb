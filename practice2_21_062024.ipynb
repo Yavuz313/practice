{
 "cells": [
  {
   "cell_type": "markdown",
   "metadata": {},
   "source": [
    "**1. Fatura Hesaplayıcı:**\n",
    "\n",
    "Sorun Bildirimi: Bir restoran işletmecisi, müşterilere sunulan hizmetlerin maliyetlerini hesaplamak için bir program istiyor.\n",
    "\n",
    "Görev: Program, bir yemeğin veya hizmetin maliyetini ve müşteri tarafından verilen bahşişi alarak toplam ücreti hesaplar.\n",
    "\n",
    "Çözüm: Kullanıcıdan yemeğin maliyeti ve bahşiş yüzdesi gibi bilgileri alarak, toplam ücreti hesaplayan bir Python programı yazın.\n"
   ]
  },
  {
   "cell_type": "code",
   "execution_count": 5,
   "metadata": {},
   "outputs": [
    {
     "name": "stdout",
     "output_type": "stream",
     "text": [
      "Toplam ucret(bahsis dahil):  287.82\n"
     ]
    }
   ],
   "source": [
    "yemek_magliyeti = float(input(\"Yemegin magliyetini giriniz: \"))\n",
    "bahsis_yuzdesi = float(input(\"Bahsis yuzdesini giriniz (%): \"))\n",
    "\n",
    "bahsis_miktari = yemek_magliyeti * (bahsis_yuzdesi / 100)\n",
    "\n",
    "toplam_ucret = yemek_magliyeti + bahsis_miktari\n",
    "\n",
    "print(f\"Toplam ucret(bahsis dahil): {toplam_ucret }\")"
   ]
  },
  {
   "cell_type": "markdown",
   "metadata": {},
   "source": [
    "**2. Saat Dönüştürücü:**\n",
    "\n",
    "Sorun Bildirimi: Bir seyahat planlayıcısı, farklı saat dilimlerindeki saatleri dönüştürmek için bir araç istiyor.\n",
    "\n",
    "Görev: Program, kullanıcıdan bir saat dilimi ve saat bilgisi alarak, farklı saat dilimlerindeki saatleri dönüştürmelidir.\n",
    "\n",
    "Çözüm: Python'da saat dilimlerini dönüştüren ve kullanıcıya sonucu gösteren bir program yazın.\n"
   ]
  },
  {
   "cell_type": "code",
   "execution_count": 7,
   "metadata": {},
   "outputs": [
    {
     "name": "stdout",
     "output_type": "stream",
     "text": [
      "Girilen saat: 17:15\n",
      "Donusturulen saat: 17:15 utc\n"
     ]
    }
   ],
   "source": [
    "saat_dilimi = input(\"Saat dilimini giriniz: \")\n",
    "saat = input(\"Saat bilgisini girin(HH:MM): \")\n",
    "\n",
    "print(f\"Girilen saat: {saat}\")\n",
    "print(f\"Donusturulen saat: {saat} {saat_dilimi}\")"
   ]
  },
  {
   "cell_type": "markdown",
   "metadata": {},
   "source": [
    "**3.\tSeyahat Bütçesi Planlayıcı:**\n",
    "\n",
    "Sorun Bildirimi: Bir seyahat acentesi, müşterilerinin seyahat bütçesini planlamak için bir araç istiyor.\n",
    "\n",
    "Görev: Program, kullanıcının seyahat edeceği bölgeye göre otel, uçak bileti, yeme-içme gibi harcamaları dikkate alarak bir seyahat bütçesi oluşturmalıdır.\n",
    "\n",
    "Çözüm: Python'da bir program yazın ve kullanıcının seyahat bütçesini planlayın.\n"
   ]
  },
  {
   "cell_type": "code",
   "execution_count": 12,
   "metadata": {},
   "outputs": [
    {
     "name": "stdout",
     "output_type": "stream",
     "text": [
      "\n",
      "      Seyahat Bütçeniz:\n",
      "\n",
      "      ________________________\n",
      "\n",
      "      Hedef Bölge: ibiza,\n",
      "\n",
      "      Otel Masrafı: 2343.0,\n",
      "\n",
      "      Uçak Bileti Masrafı: 3232.9,\n",
      "\n",
      "      Yeme - İçme Masrafı: 21.0,\n",
      "\n",
      "      Toplam Masraf: 5596.9 ₺ dir.\n",
      "      \n"
     ]
    }
   ],
   "source": [
    "hedef = input(\"Gidilecek bölgeyi seçiniz: \")\n",
    "otel_masrafi = float(input(\"Otel masrafını giriniz:\"))\n",
    "ucak_bileti_masrafi = float(input(\" Uçak bileti masrafını giriniz: \"))\n",
    "yeme_icme_masrafi = float(input(\"Yeme - içme masrafını giriniz:\"))\n",
    "\n",
    "toplam_masraf = otel_masrafi + ucak_bileti_masrafi + yeme_icme_masrafi\n",
    "\n",
    "print(f\"\"\"\n",
    "      Seyahat Bütçeniz:\\n\n",
    "      ________________________\\n\n",
    "      Hedef Bölge: {hedef},\\n\n",
    "      Otel Masrafı: {otel_masrafi},\\n\n",
    "      Uçak Bileti Masrafı: {ucak_bileti_masrafi},\\n\n",
    "      Yeme - İçme Masrafı: {yeme_icme_masrafi},\\n\n",
    "      Toplam Masraf: {toplam_masraf} ₺ dir.\n",
    "      \"\"\")"
   ]
  },
  {
   "cell_type": "markdown",
   "metadata": {},
   "source": [
    "**4.\tYatırım Getiri Analizi:**\n",
    "\n",
    "Sorun Bildirimi: Bir finansal danışman, müşterilerinin yatırımlarının getirisini analiz etmek için bir araç istiyor.\n",
    "\n",
    "Görev: Program, kullanıcının yaptığı yatırımların getirisini hesaplamalı ve analiz etmelidir.\n",
    "\n",
    "Çözüm: Python'da finansal verileri analiz eden bir kütüphane kullanarak, kullanıcının yatırımlarının getirisini hesaplayan bir program yazın.\n"
   ]
  },
  {
   "cell_type": "code",
   "execution_count": 13,
   "metadata": {},
   "outputs": [
    {
     "name": "stdout",
     "output_type": "stream",
     "text": [
      "\n",
      "Yatırımın getirisi: 8.66%\n"
     ]
    }
   ],
   "source": [
    "yatirim_baslangic_degeri = float(input(\"Yatırımın başlangıç değerini giriniz: \"))\n",
    "yatirim_son_degeri = float(input(\"Yatırımın son değerini giriniz: \"))\n",
    "\n",
    "getiri = ((yatirim_son_degeri - yatirim_baslangic_degeri) / yatirim_baslangic_degeri) * 100\n",
    "\n",
    "print(\"\\nYatırımın getirisi: {:.2f}%\".format(getiri)) #{:.2f} virgulden sonra 2 basamak gosterir"
   ]
  },
  {
   "cell_type": "markdown",
   "metadata": {},
   "source": [
    "**5. Metin Mesajı Analizi**\n",
    "\n",
    "Sorun Bildirimi: Bir metin mesajı analizi uygulaması oluşturun. Kullanıcı, bir metin mesajını giriş olarak verecek ve uygulamanın mesajdaki kelimelerin sayısını, cümle sayısını ve karakter sayısını belirlemesini sağlamalıdır.\n",
    "\n",
    "Görev: Kullanıcı tarafından sağlanan metin mesajını analiz ederek aşağıdaki bilgileri sağlayın:\n",
    "\n",
    "    Toplam kelime sayısı\n",
    "    Toplam cümle sayısı\n",
    "    Toplam karakter sayısı\n",
    "\n",
    "Bonus: Kullanıcının sağladığı metin mesajını analiz ederken, aynı zamanda en sık kullanılan kelimeleri veya karakterleri belirleyin ve kullanıcıya raporlayın."
   ]
  },
  {
   "cell_type": "code",
   "execution_count": 16,
   "metadata": {},
   "outputs": [
    {
     "name": "stdout",
     "output_type": "stream",
     "text": [
      "Su yogurdu sarimsaklasak da mi saklasak. Sarimsaklamasak da saklasak ?\n",
      "Toplam kelime sayisi:10\n",
      "Toplam cumle sayisi:2\n",
      "Toplam karakter sayisi:70\n"
     ]
    }
   ],
   "source": [
    "metin_mesaji = input(\"Lutfen metni giriniz:\")\n",
    "kelime_sayisi = len(metin_mesaji.split())\n",
    "cumle_sayisi = metin_mesaji.count(\".\") + metin_mesaji.count(\"!\") + metin_mesaji.count(\"?\")\n",
    "karakter_sayisi = len(metin_mesaji)\n",
    "\n",
    "print(metin_mesaji)\n",
    "print(f\"Toplam kelime sayisi:{kelime_sayisi}\")\n",
    "print(f\"Toplam cumle sayisi:{cumle_sayisi}\")\n",
    "print(f\"Toplam karakter sayisi:{karakter_sayisi}\")"
   ]
  },
  {
   "cell_type": "markdown",
   "metadata": {},
   "source": [
    "**6. Palindrom Sorgulayıcı**\n",
    "\n",
    "Sorun Bildirimi: Bir palindrom sorgulayıcı uygulaması oluşturun. Kullanıcı, bir kelime veya cümle girişi yapacak ve uygulamanın bu girişin bir palindrom olup olmadığını kontrol etmesini sağlamalıdır.\n",
    "\n",
    "Görev: Kullanıcının girişini alarak, uygulamanın bunun bir palindrom olup olmadığını belirlemesini sağlayın. Bir palindrom, soldan sağa veya sağdan sola okunduğunda aynı olan bir kelime veya cümledir.\n",
    "\n",
    "Bonus: Kullanıcıya, girişin bir palindrom olup olmadığını belirleme sürecini görselleştiren bir arayüz sağlayın, örneğin girişin ters çevrilmiş halini görüntüleyerek."
   ]
  },
  {
   "cell_type": "code",
   "execution_count": 19,
   "metadata": {},
   "outputs": [
    {
     "name": "stdout",
     "output_type": "stream",
     "text": [
      "'A man a' ifadesi bir palindrom degildir\n"
     ]
    }
   ],
   "source": [
    "giris = input(\"Lutfen bir kelime yada cumle giriniz: \")\n",
    "temiz_giris = giris.lower().replace(\" \",\"\")\n",
    "\n",
    "giris_tersi = temiz_giris[::-1]\n",
    "\n",
    "if temiz_giris == giris_tersi:\n",
    "    print(f\"'{giris}' ifadesi bir palindromdur\")\n",
    "else:\n",
    "    print(f\"'{giris}' ifadesi bir palindrom degildir\")"
   ]
  },
  {
   "cell_type": "markdown",
   "metadata": {},
   "source": [
    "**7. Karakter Dizisi Dönüşümü**\n",
    "\n",
    "Sorun Bildirimi: Bir karakter dizisini farklı biçimlerde dönüştüren bir program yazın. Kullanıcı, bir giriş karakter dizisi ve dönüşüm türü seçerek dönüştürülen karakter dizisini görmelidir.\n",
    "\n",
    "Görev: Kullanıcının sağladığı giriş karakter dizisini, kullanıcının seçtiği dönüşüm türüne göre dönüştürün. Dönüşüm türleri arasında büyük harfe dönüştürme, küçük harfe dönüştürme, baş harfleri büyük yapma ve ters çevirme gibi seçenekler bulunabilir.\n",
    "\n",
    "Bonus: Kullanıcının sağladığı karakter dizisini daha karmaşık biçimlerde dönüştürme seçenekleri ekleyin, örneğin metni tersine çevirme veya harfleri biraz değiştirme."
   ]
  },
  {
   "cell_type": "code",
   "execution_count": 21,
   "metadata": {},
   "outputs": [
    {
     "name": "stdout",
     "output_type": "stream",
     "text": [
      "b ifadesinin, seçmiş olduğunuz  dönüşüm türüne göre dönüştürülmüş hali: Geçersiz dönüşüm türü!'dir.\n"
     ]
    }
   ],
   "source": [
    "giris = input(\"Lütfen bir karakter dizisi giriniz:\")\n",
    "donusum_turu = input(\"Lütfen dönüşüm türünü seçiniz (b: büyük harfe, k: küçük harfe, t: terse çevirme): \")\n",
    "\n",
    "if donusum_turu == \"b\":\n",
    "    donusumlu_giris = giris.upper()\n",
    "elif donusum_turu == \"k\":\n",
    "    donusumlu_giris = giris.lower()\n",
    "elif donusum_turu == \"t\":\n",
    "    donusumlu_giris = giris[::-1]\n",
    "else:\n",
    "    donusumlu_giris = \"Geçersiz dönüşüm türü!\"\n",
    "    \n",
    "print(f\"{giris} ifadesinin, seçmiş olduğunuz {donusum_turu} dönüşüm türüne göre dönüştürülmüş hali: {donusumlu_giris}'dir.\")"
   ]
  },
  {
   "cell_type": "markdown",
   "metadata": {},
   "source": [
    "**8. Email Doğrulama**\n",
    "\n",
    "Sorun Bildirimi: Bir kullanıcının girdiği e-posta adresinin doğruluğunu kontrol eden bir program yazın.\n",
    "\n",
    "Görev: Kullanıcıdan bir e-posta adresi alın. Ardından, bu e-posta adresinin geçerli bir adres olup olmadığını kontrol edin. Geçerli bir e-posta adresi, genellikle bir kullanıcı adı, \"@\" işareti, alan adı ve bir üst düzey alan adından oluşur. Örneğin, \"ornek@ornek.com\" gibi. Programınız, kullanıcıya e-posta adresinin geçerli olup olmadığını bildirmelidir.\n",
    "\n",
    "Bonus: E-posta adresinin yanı sıra, kullanıcının girdiği metnin içindeki diğer e-posta adreslerini de bulup listelemeyi deneyin."
   ]
  },
  {
   "cell_type": "code",
   "execution_count": null,
   "metadata": {},
   "outputs": [],
   "source": [
    "email = input(\"Lutfen e posta adresiniz giriniz: \")\n",
    "\n",
    "if \"@\" in email:\n",
    "    print(\"Girilen e posta adresi gecerli\")\n",
    "else:\n",
    "    print(\"Gecersiz e posta adresi\") "
   ]
  },
  {
   "cell_type": "markdown",
   "metadata": {},
   "source": [
    "**9. Güçlü Şifre Oluşturucu**\n",
    "\n",
    "* Karmaşık bir şifre oluşturmak için kullanıcı girdisi alan bir Python programı yazın. \n",
    "* Program, kullanıcıdan şifreye dahil etmek istedikleri ünlüler, ünsüzler, sayılar, noktalama işaretleri ve sayısal olmayan karakterler gibi karakter türlerini belirtmesini istemelidir. \n",
    "* Kullanıcının girişine bağlı olarak, 8, 9, 10, 11 veya 12 karakterden oluşan rastgele bir şifre oluşturun. \n",
    "* Lütfen oluşturulan şifrenin kullanıcının belirlediği kriterleri karşıladığından emin olun."
   ]
  },
  {
   "cell_type": "code",
   "execution_count": null,
   "metadata": {},
   "outputs": [],
   "source": [
    "import random\n",
    "\n",
    "print(\"Karışık bir şifre oluşturma programına hoş geldiniz!\")\n",
    "\n",
    "vowels = input(\"Ünlü harfler dahil edilsin mi? (e/h): \").strip().lower() == \"e\"\n",
    "consonants = input(\"Ünsüz harfler dahil edilsin mi? (e/h): \").strip().lower() == \"e\"\n",
    "digits = input(\"Sayılar dahil edilsin mi? (e/h): \").strip().lower() == \"e\"\n",
    "punctuations = input(\"Noktalama işaretleri dahil edilsin mi? (e/h): \").strip().lower() == \"e\"\n",
    "non_numeric = input(\"Sayısal olmayan karakterler dahil edilsin mi? (e/h): \").strip().lower() == \"e\"\n",
    "\n",
    "\n",
    "length = input(\"Şifrenin uzunluğunu seçiniz (8, 9, 10, 11, 12): \")\n",
    "\n",
    "pool = \"\"\n",
    "\n",
    "if vowels:\n",
    "    pool += \"aeiouAEIOU\"\n",
    "    \n",
    "if consonants:\n",
    "    pool += \"bcdfghjklmnpqrstvwxyzBCDFGHJKLMNPQRSTVWXYZ\"\n",
    "    \n",
    "if digits:\n",
    "    pool += \"0123456789\"\n",
    "    \n",
    "if punctuations:\n",
    "    pool += \".,:;!()?-'\\\"\"\n",
    "    \n",
    "if non_numeric:\n",
    "    pool += \"#$%&*+-/<=>@[\\]^_`{|}~\"\n",
    "    \n",
    "if not pool:\n",
    "    print(\"Hiçbir karakter türü seçilmedi. Lütfen en az bir karaktertürü seçiniz.\")\n",
    "    \n",
    "\n",
    "password = \"\"\n",
    "if vowels:\n",
    "    password += random.choice(\"aeiouAEIOU\")\n",
    "if consonants:\n",
    "    password += random.choice(\"bcdfghjklmnpqrstvwxyzBCDFGHJKLMNPQRSTVWXYZ\")\n",
    "if digits:\n",
    "    password += random.choice(\"0123456789\")\n",
    "if punctuations:\n",
    "    password += random.choice(\".,:;!()?-'\\\"\")\n",
    "if non_numeric:\n",
    "    password += random.choice(\"#$%&*+-/<=>@[\\]^_`{|}~\")\n",
    "    \n",
    "password += random.choice(pool)\n",
    "\n",
    "if length == \"8\":\n",
    "    a = 8 - len(password)\n",
    "    password += password[:a]\n",
    "elif length == \"9\":\n",
    "    a = 9 - len(password)\n",
    "    password += password[:a]\n",
    "elif length == \"10\":\n",
    "    a = 10 - len(password)\n",
    "    password += password[:a]\n",
    "elif length == \"11\":\n",
    "    a = 11 - len(password)\n",
    "    password += password[:a]\n",
    "elif length == \"12\":\n",
    "    a = 12 - len(password)\n",
    "    password += password[:a]\n",
    "\n",
    "print(f\"Oluşturulan şifre: {password}\")"
   ]
  }
 ],
 "metadata": {
  "kernelspec": {
   "display_name": "Python 3",
   "language": "python",
   "name": "python3"
  },
  "language_info": {
   "codemirror_mode": {
    "name": "ipython",
    "version": 3
   },
   "file_extension": ".py",
   "mimetype": "text/x-python",
   "name": "python",
   "nbconvert_exporter": "python",
   "pygments_lexer": "ipython3",
   "version": "3.12.3"
  }
 },
 "nbformat": 4,
 "nbformat_minor": 2
}
