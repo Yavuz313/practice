{
 "cells": [
  {
   "cell_type": "markdown",
   "metadata": {},
   "source": [
    "ödev1;\n",
    "kullanıcıdan boy ve kilo sunu öğrenip vki durumunu yazdırın."
   ]
  },
  {
   "cell_type": "code",
   "execution_count": 3,
   "metadata": {},
   "outputs": [
    {
     "name": "stdout",
     "output_type": "stream",
     "text": [
      "Kilonuz normal\n"
     ]
    }
   ],
   "source": [
    "boy = float(input(\"Lutfen boyunuzu giriniz(M): \"))\n",
    "kilo = float(input(\"Lutfen kilonuzu giriniz(KG): \"))\n",
    "\n",
    "vki = kilo / boy**2\n",
    "\n",
    "if vki < 20:\n",
    "    print(\"Dusuk kilolusunuz\")\n",
    "elif vki < 25:\n",
    "    print(\"Kilonuz normal\")\n",
    "elif vki < 30:\n",
    "    print(\"Asiri kilolu\")\n",
    "elif vki < 40:\n",
    "    print(\"Sorun buyuk :/\")\n",
    "else:\n",
    "    print(\"Gecersiz deger\")\n"
   ]
  },
  {
   "cell_type": "markdown",
   "metadata": {},
   "source": [
    "Ödev2:\n",
    "1 - Kullanıcıdan bir sayı alın.\n",
    "2 - Bu sayı 3 e bölünebiliyorsa \"Tech\",\n",
    "3 - 5 e bölünebiliyorsa \"Pro\",\n",
    "4 - Hem 5 e hem de 3 e bölünebiliyorsa \"Techpro\" yazdırın.\n",
    "5 - sayı bu şartların hiç birini sağlamıyorsa sayının kendisini yazdıran python kodunu yazın.\n",
    "Cevaplar yarın 15:00(tr) e kadar slack kanallarında paylaşılmayacak. 15:00 dan sonra paylaşabilirsiniz. @channel\n"
   ]
  },
  {
   "cell_type": "code",
   "execution_count": 14,
   "metadata": {},
   "outputs": [
    {
     "name": "stdout",
     "output_type": "stream",
     "text": [
      "girdiginiz 46 sayisi secenekler arasinda yer almiyor\n"
     ]
    }
   ],
   "source": [
    "sayi = int(input(\"Lutfen bir sayi giriniz: \"))\n",
    "\n",
    "if sayi % 3 == 0 and sayi % 5 == 0 :\n",
    "    print(\"Techpro\")\n",
    "elif sayi % 3 == 0:\n",
    "    print(\"Tech\")\n",
    "elif sayi % 5 == 0:\n",
    "    print(\"Pro\")\n",
    "else:\n",
    "    print(f\"girdiginiz {sayi} sayisi secenekler arasinda yer almiyor\")\n"
   ]
  },
  {
   "cell_type": "markdown",
   "metadata": {},
   "source": [
    "1. Basit Hesap Makinesi\n",
    "Görev: Kullanıcıdan iki sayı ve bir işlem (toplama, çıkarma, çarpma, bölme) alarak işlemi gerçekleştiren bir hesap makinesi oluştur.\n",
    "\n",
    "Algoritma:\n",
    "\n",
    "Kullanıcıdan birinci sayıyı al.\n",
    "Kullanıcıdan ikinci sayıyı al.\n",
    "Kullanıcıdan yapılacak işlemi al (toplama, çıkarma, çarpma, bölme).\n",
    "Girilen işleme göre uygun matematiksel işlemi gerçekleştir.\n",
    "Sonucu ekrana yazdır."
   ]
  },
  {
   "cell_type": "code",
   "execution_count": 8,
   "metadata": {},
   "outputs": [
    {
     "name": "stdout",
     "output_type": "stream",
     "text": [
      "32198.98\n"
     ]
    }
   ],
   "source": [
    "number_1 = float(input(\"Please enter 1st number: \"))\n",
    "number_2 = float(input(\"Please enter 2nd number: \"))\n",
    "operation = input(\"Please enter which mathematical operation you want to perform: \")\n",
    "\n",
    "if operation == \"+\":\n",
    "    result = number_1 + number_2\n",
    "    print(f\"{result:.2f}\")\n",
    "    \n",
    "elif operation == \"-\":\n",
    "    result = number_1 - number_2\n",
    "    print(f\"{result:.2f}\")\n",
    "    \n",
    "elif operation == \"/\":\n",
    "    result = number_1 / number_2\n",
    "    print(f\"{result:.2f}\")\n",
    "    \n",
    "elif operation == \"*\":\n",
    "    result = number_1 * number_2\n",
    "    print(f\"{result:.2f}\")\n",
    "else:\n",
    "    print(\"Invalid value\")\n"
   ]
  },
  {
   "cell_type": "markdown",
   "metadata": {},
   "source": [
    "Kullanıcıdan 1 ile 10 arasında bir sayı isteyin ve sayının çarpım tablosunu oluşturun.\n",
    "Girilen sayı 4 olsun.\n",
    "4 x 0 = 0\n",
    "4 x 1 = 4\n",
    "4 x 2 = 8\n",
    ".\n",
    ".\n",
    ".\n",
    "4 x 10 = 40\n",
    "Şeklinde çıktı almak istiyoruz."
   ]
  },
  {
   "cell_type": "code",
   "execution_count": 1,
   "metadata": {},
   "outputs": [
    {
     "name": "stdout",
     "output_type": "stream",
     "text": [
      "5 x 0 = 0\n",
      "5 x 1 = 5\n",
      "5 x 2 = 10\n",
      "5 x 3 = 15\n",
      "5 x 4 = 20\n",
      "5 x 5 = 25\n",
      "5 x 6 = 30\n",
      "5 x 7 = 35\n",
      "5 x 8 = 40\n",
      "5 x 9 = 45\n",
      "5 x 10 = 50\n"
     ]
    }
   ],
   "source": [
    "\n",
    "sayi = int(input(\"Lütfen 1 ile 10 arasında bir sayı girin: \"))\n",
    "\n",
    "for i in range(11): \n",
    "    print(f\"{sayi} x {i} = {sayi * i}\")\n"
   ]
  },
  {
   "cell_type": "markdown",
   "metadata": {},
   "source": [
    "**2. Hastane Otamasyon Sistemi**\n",
    "\n",
    "**Senaryo**\n",
    "\n",
    "Bir hastane, hasta kayıtlarını yönetmek için bir otomasyon sistemi geliştirmek istiyor. Bu sistemde, hastaların adları, yaşları ve teşhis bilgileri saklanmalıdır. Hastane, yeni hasta ekleyebilmeyi, mevcut hastaları görüntüleyebilmeyi, belirli bir hastayı sorgulayabilmeyi ve hasta kayıtlarını silebilmeyi istemektedir.\n",
    "\n",
    "**Sorun**\n",
    "\n",
    "Hastane, hasta bilgilerini manuel olarak yönetmektedir ve bu durum hatalara yol açmaktadır. Yeni bir hasta ekleme, mevcut hastaları sorgulama ve güncelleme işlemleri zaman alıcı ve verimsiz hale gelmektedir. Bu nedenle, hasta verilerini daha verimli bir şekilde saklamak ve yönetmek için bir yazılım çözümüne ihtiyaç duyulmaktadır.\n",
    "\n",
    "**Talimatlar**\n",
    "\n",
    "    1. Yeni Hasta Ekleme:\n",
    "        Kullanıcı, yeni bir hastanın adını, yaşını ve teşhisini girmelidir.\n",
    "        Bu bilgiler, hasta kayıt sistemine eklenmelidir.\n",
    "\n",
    "    2. Hasta Bilgilerini Görüntüleme:\n",
    "        Kullanıcı, sistemde mevcut tüm hastaların adlarını, yaşlarını ve teşhislerini görüntüleyebilmelidir.\n",
    "\n",
    "    3. Belirli Bir Hastayı Sorgulama:\n",
    "        Kullanıcı, belirli bir hastanın adını girerek bu hastanın sistemde olup olmadığını kontrol edebilmelidir.\n",
    "        Eğer hasta sistemde mevcutsa, hastanın tüm bilgileri görüntülenmelidir.\n",
    "        Eğer hasta sistemde mevcut değilse, kullanıcıya uygun bir hata mesajı gösterilmelidir.\n",
    "\n",
    "    4. Hasta Silme:\n",
    "        Kullanıcı, silmek istediği hastanın adını girmelidir.\n",
    "        Eğer hasta sistemde mevcutsa, bu hasta sistemden silinmelidir.\n",
    "        Eğer hasta sistemde mevcut değilse, kullanıcıya uygun bir hata mesajı gösterilmelidir.\n",
    "\n",
    "    5. Programdan Çıkış:\n",
    "        Kullanıcı, programdan çıkmak için bir seçenek kullanabilmelidir.\n",
    "\n",
    "Program Akışı\n",
    "\n",
    "* Kullanıcı, işlem seçeneklerini menüden seçer.\n",
    "* Kullanıcı, seçtiği işleme göre gerekli bilgileri girer.\n",
    "* Program, kullanıcının girdilerine göre gerekli işlemleri yapar ve sonucu kullanıcıya bildirir.\n",
    "* Program, kullanıcı \"Çıkış\" seçeneğini seçene kadar çalışmaya devam eder.\n",
    "\n",
    "**Örnek Kullanıcı Etkileşimi**\n",
    "\n",
    "```\n",
    "\n",
    "Hastane Otomasyon Sistemi\n",
    "1. Yeni Hasta Ekle\n",
    "2. Hasta Bilgilerini Görüntüle\n",
    "3. Belirli Bir Hastayı Sorgula\n",
    "4. Hasta Sil\n",
    "5. Çıkış\n",
    "\n",
    "Bir işlem seçin (1-5): 1\n",
    "Hasta Adı: Ahmet\n",
    "Hasta Yaşı: 50\n",
    "Hasta Teşhisi: Kalp Hastalığı\n",
    "Yeni hasta eklendi: {'ad': 'Ahmet', 'yas': 50, 'teshis': 'Kalp Hastalığı'}\n",
    "\n",
    "Bir işlem seçin (1-5): 2\n",
    "Mevcut Hastalar:\n",
    "1. Hasta - Ad: Ali, Yaş: 45, Teşhis: Grip\n",
    "2. Hasta - Ad: Ayşe, Yaş: 30, Teşhis: Yüksek Tansiyon\n",
    "3. Hasta - Ad: Mehmet, Yaş: 60, Teşhis: Diyabet\n",
    "4. Hasta - Ad: Ahmet, Yaş: 50, Teşhis: Kalp Hastalığı\n",
    "\n",
    "Bir işlem seçin (1-5): 3\n",
    "Sorgulanacak hastanın adı: Mehmet\n",
    "Hasta bulundu: Ad: Mehmet, Yaş: 60, Teşhis: Diyabet\n",
    "\n",
    "Bir işlem seçin (1-5): 4\n",
    "Silinecek hastanın adı: Ayşe\n",
    "Ayşe adlı hasta silindi.\n",
    "\n",
    "Bir işlem seçin (1-5): 5\n",
    "Programdan çıkılıyor.\n",
    "```"
   ]
  },
  {
   "cell_type": "code",
   "execution_count": 1,
   "metadata": {},
   "outputs": [
    {
     "name": "stdout",
     "output_type": "stream",
     "text": [
      "\n",
      "      Personel Yonetim Sistemi\n",
      "      1. Yeni Personel Ekle\n",
      "      2. Personel Cikar\n",
      "      3. Personel Listesini Goruntule\n",
      "      4. Personel Varligini Kontrol Et\n",
      "      5.Cikis\n",
      "      \n",
      "Gecersin sayi girdiniz, lutfen 1-5 arasinda sayi giriniz\n",
      "Gecersin sayi girdiniz, lutfen 1-5 arasinda sayi giriniz\n",
      "Gecersin sayi girdiniz, lutfen 1-5 arasinda sayi giriniz\n",
      "Gecersin sayi girdiniz, lutfen 1-5 arasinda sayi giriniz\n",
      "Gecersin sayi girdiniz, lutfen 1-5 arasinda sayi giriniz\n",
      "Gecersin sayi girdiniz, lutfen 1-5 arasinda sayi giriniz\n",
      "Programdan cikiliyor\n"
     ]
    }
   ],
   "source": [
    "personel_sistemi = {\n",
    "    101: {\"isim\":\"Ali\",\"departman\": \"IT\", \"maas\": 5000},\n",
    "    102: {\"isim\":\"Ayse\",\"departman\": \"HR\", \"maas\": 4500},\n",
    "    103: {\"isim\":\"Mehmet\",\"departman\": \"Finance\", \"maas\": 5500}\n",
    "}\n",
    "\n",
    "print(\"\"\"\n",
    "      Personel Yonetim Sistemi\n",
    "      1. Yeni Personel Ekle\n",
    "      2. Personel Cikar\n",
    "      3. Personel Listesini Goruntule\n",
    "      4. Personel Varligini Kontrol Et\n",
    "      5.Cikis\n",
    "      \"\"\")\n",
    "\n",
    "while True:\n",
    "    secim  = input(\"Bir islem seciniz (1-5): \")\n",
    "    \n",
    "    if secim == \"1\":\n",
    "        personel_no  = int(input(\"Personel Numarasi: \"))\n",
    "        isim = input(\"Isim: \")\n",
    "        departman = input(\"Departman: \")\n",
    "        maas = int(input(\"Maas: \"))\n",
    "        personel_sistemi[personel_no] = {\"isim\": isim, \"departman\":departman, \"maas\":maas}\n",
    "        print(f\"Yeni personel eklendi: {personel_no} - {isim}\")\n",
    "        \n",
    "    elif secim == \"2\":\n",
    "        personel_no  = int(input(\"Cikarilicak Personel Numarasi: \"))\n",
    "        \n",
    "        if personel_no in personel_sistemi:\n",
    "            del personel_sistemi[personel_no]\n",
    "            print(f\"Personel cikarildi: {personel_no}\")\n",
    "        else:\n",
    "            print(f\"{personel_no} numarali personel bulunamadi\")\n",
    "            \n",
    "    elif secim == \"3\":\n",
    "        print(\"Mevcut Personel Listesi:\")\n",
    "        for personel_no, bilgiler in personel_sistemi.items():\n",
    "            print(f\"Numara: {personel_no} | Isim: {bilgiler['isim']} | Departman: {bilgiler['departman']} | Maas: {bilgiler['maas']}\")\n",
    "        \n",
    "    elif secim == \"4\":\n",
    "        personel_no  = int(input(\"Kontrol Edilicek Personel Numarasi: \"))\n",
    "        if personel_no in personel_sistemi:\n",
    "            bilgiler = personel_sistemi[personel_no]\n",
    "            print(f\"{personel_no} numarali personel mevcut. Isim: {bilgiler['isim']}\")\n",
    "        else:\n",
    "            print(f\"{personel_no} numarali personel bulunamadi\")\n",
    "                 \n",
    "    elif secim == \"5\":\n",
    "        print(\"Programdan cikiliyor\")\n",
    "        break\n",
    "    \n",
    "    else:\n",
    "        print(\"Gecersin sayi girdiniz, lutfen 1-5 arasinda sayi giriniz\")\n",
    "\n",
    "\n",
    "\n"
   ]
  },
  {
   "cell_type": "code",
   "execution_count": null,
   "metadata": {},
   "outputs": [],
   "source": []
  }
 ],
 "metadata": {
  "kernelspec": {
   "display_name": "Python 3",
   "language": "python",
   "name": "python3"
  },
  "language_info": {
   "codemirror_mode": {
    "name": "ipython",
    "version": 3
   },
   "file_extension": ".py",
   "mimetype": "text/x-python",
   "name": "python",
   "nbconvert_exporter": "python",
   "pygments_lexer": "ipython3",
   "version": "3.12.3"
  }
 },
 "nbformat": 4,
 "nbformat_minor": 2
}
